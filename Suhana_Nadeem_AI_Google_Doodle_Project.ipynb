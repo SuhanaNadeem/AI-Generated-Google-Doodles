{
  "nbformat": 4,
  "nbformat_minor": 0,
  "metadata": {
    "colab": {
      "name": "Suhana Nadeem - AI Google Doodle Project.ipynb",
      "provenance": [],
      "private_outputs": true,
      "collapsed_sections": [],
      "toc_visible": true
    },
    "kernelspec": {
      "name": "python3",
      "display_name": "Python 3"
    },
    "accelerator": "GPU"
  },
  "cells": [
    {
      "cell_type": "markdown",
      "metadata": {
        "id": "3JKH1OhGbHG8",
        "colab_type": "text"
      },
      "source": [
        "# **AI Generated Google Doodle Project**\n",
        "\n",
        "---\n",
        "\n",
        "\n",
        "**Created by Suhana Nadeem**\n",
        "\n",
        "\n",
        "---\n",
        "\n",
        "\n",
        "\n"
      ]
    },
    {
      "cell_type": "markdown",
      "metadata": {
        "id": "S_1AjSmfezEp",
        "colab_type": "text"
      },
      "source": [
        "Install dependencies for running the program itself, using Flask with Ngrok, and working in the Google Colab environment. Note that you must restart Colab's runtime by going to **Runtime > Restart runtime...** when the text comments I've left specify to do so."
      ]
    },
    {
      "cell_type": "code",
      "metadata": {
        "id": "Kl9WVmHax7ol",
        "colab_type": "code",
        "colab": {}
      },
      "source": [
        "# Install dependencies for web app (ngrok) and downloading Google images.\n",
        "!pip install flask-ngrok\n",
        "!pip install google_images_download"
      ],
      "execution_count": 0,
      "outputs": []
    },
    {
      "cell_type": "code",
      "metadata": {
        "id": "-MO_-UyFDnwj",
        "colab_type": "code",
        "colab": {}
      },
      "source": [
        "!pip install --upgrade tensorflow"
      ],
      "execution_count": 0,
      "outputs": []
    },
    {
      "cell_type": "code",
      "metadata": {
        "id": "RnunVv6A0ox3",
        "colab_type": "code",
        "colab": {}
      },
      "source": [
        "!pip install --upgrade grpcio"
      ],
      "execution_count": 0,
      "outputs": []
    },
    {
      "cell_type": "code",
      "metadata": {
        "id": "1ef3SAH42wpX",
        "colab_type": "code",
        "colab": {}
      },
      "source": [
        "# Needed to access Google Drive files as expected. Enter \"y\" when prompted.\n",
        "!pip uninstall google-auth"
      ],
      "execution_count": 0,
      "outputs": []
    },
    {
      "cell_type": "code",
      "metadata": {
        "id": "B_8g4l9d3P2h",
        "colab_type": "code",
        "colab": {}
      },
      "source": [
        "!pip install google-auth"
      ],
      "execution_count": 0,
      "outputs": []
    },
    {
      "cell_type": "code",
      "metadata": {
        "id": "mAqqJ-4of8oh",
        "colab_type": "code",
        "colab": {}
      },
      "source": [
        "# Run to ensure keras 2.2.5 and tensorflow > 2 are being used, and that Eager Execution is enabled.\n",
        "import keras\n",
        "print(keras.__version__)\n",
        "import tensorflow as tf\n",
        "print(tf.__version__)\n",
        "tf.executing_eagerly()"
      ],
      "execution_count": 0,
      "outputs": []
    },
    {
      "cell_type": "code",
      "metadata": {
        "id": "WcVxHqdCDf8S",
        "colab_type": "code",
        "colab": {}
      },
      "source": [
        "!pip install config\n",
        "!pip install tensorflow-gpu"
      ],
      "execution_count": 0,
      "outputs": []
    },
    {
      "cell_type": "code",
      "metadata": {
        "id": "qOXSuNw-DiLh",
        "colab_type": "code",
        "colab": {}
      },
      "source": [
        "# Download ngrok.\n",
        "!wget https://bin.equinox.io/c/4VmDzA7iaHb/ngrok-stable-linux-amd64.zip\n",
        "!unzip ngrok-stable-linux-amd64.zip"
      ],
      "execution_count": 0,
      "outputs": []
    },
    {
      "cell_type": "code",
      "metadata": {
        "id": "JXDe-D43DlG5",
        "colab_type": "code",
        "colab": {}
      },
      "source": [
        "# Used in finding dominant colour and image mashing.\n",
        "!pip install sklearn\n",
        "!pip install -U scikit-learn scipy matplotlib"
      ],
      "execution_count": 0,
      "outputs": []
    },
    {
      "cell_type": "markdown",
      "metadata": {
        "colab_type": "text",
        "id": "vnfNyyNhl1hw"
      },
      "source": [
        "Restart Colab's runtime by going to **Runtime > Restart runtime...**"
      ]
    },
    {
      "cell_type": "markdown",
      "metadata": {
        "id": "_6ZRXAA7fNOc",
        "colab_type": "text"
      },
      "source": [
        "Connect Google Colab to Google Drive."
      ]
    },
    {
      "cell_type": "code",
      "metadata": {
        "id": "c_h-A_lM7iln",
        "colab_type": "code",
        "colab": {}
      },
      "source": [
        "# Connect Colab environment to Google Drive. Follow the instructions given in ouput, and copy/paste the authorization code.\n",
        "from google.colab import drive\n",
        "drive.mount('/content/drive')"
      ],
      "execution_count": 0,
      "outputs": []
    },
    {
      "cell_type": "code",
      "metadata": {
        "id": "_gPyKF2_YEwy",
        "colab_type": "code",
        "colab": {}
      },
      "source": [
        "# Enable saving to Google Drive and accessing files stored there.\n",
        "!pip install -U -q PyDrive\n",
        "from pydrive.auth import GoogleAuth\n",
        "from pydrive.drive import GoogleDrive\n",
        "from google.colab import auth\n",
        "from oauth2client.client import GoogleCredentials\n",
        "\n",
        "# Authenticate and create the PyDrive client. Follow the instructions given in ouput, and copy/paste the authorization code.\n",
        "auth.authenticate_user()\n",
        "gauth = GoogleAuth()\n",
        "gauth.credentials = GoogleCredentials.get_application_default()"
      ],
      "execution_count": 0,
      "outputs": []
    },
    {
      "cell_type": "markdown",
      "metadata": {
        "id": "umzNWE1KlNx1",
        "colab_type": "text"
      },
      "source": [
        "Restart Colab's runtime by going to **Runtime > Restart runtime...**"
      ]
    },
    {
      "cell_type": "markdown",
      "metadata": {
        "id": "Ox_IFIUNfpqd",
        "colab_type": "text"
      },
      "source": [
        "Main code block to run the program. \n",
        "Usage: \n",
        "- Run the block and click on the ngrok.io link generated to go to the web app.\n",
        "- Enter desired subject and event, click Generate AI Doodle, and see the results!\n",
        "- You will able to see the program conducting the image downloads, mashing, etc. from the output of this code block.\n",
        "\n",
        "Notes:\n",
        "- For slow internet connections, change the numIterate variable in main.py to 500 or lower. Make sure this file is reuploaded in Google Drive.\n",
        "- Unsure what to try? Enter a famous person as your subject and a famous painting as your event."
      ]
    },
    {
      "cell_type": "code",
      "metadata": {
        "colab_type": "code",
        "id": "fnRYph3uvNOm",
        "colab": {}
      },
      "source": [
        "# Declare system path needed.\n",
        "import sys\n",
        "sys.path.append('/content/drive/My Drive/Colab Notebooks/AI Google Doodle/app')\n",
        "\n",
        "# Import dependencies for running with ngrok.\n",
        "from flask import Flask,url_for, request,render_template, redirect\n",
        "from flask_ngrok import run_with_ngrok\n",
        "from config import Config\n",
        "\n",
        "# Import dependencies to access paths and tensorflow.\n",
        "import os\n",
        "import tensorflow as tf\n",
        "import tensorflow_core\n",
        "\n",
        "# Import needed classes from libs files.\n",
        "from libs.main import Main\n",
        "from libs.doodle import Doodle\n",
        "\n",
        "# Declare root directory for easy path access. \n",
        "# Important: Ensure this is the path of the app folder in your Google Drive.\n",
        "rootDir = os.path.abspath('drive/My Drive/Colab Notebooks/AI Google Doodle/app')\n",
        "\n",
        "# Configure running with ngrok.\n",
        "app=Flask(__name__,root_path=rootDir)\n",
        "app.config.from_object(Config)\n",
        "run_with_ngrok(app) \n",
        "\n",
        "\"\"\"\n",
        "This function renders index.html and ensures the proper default images are \n",
        "shown before the doodle is generated.\n",
        "\"\"\"\n",
        "@app.route('/')\n",
        "@app.route('/index')\n",
        "def index():\n",
        "    # Define default image paths to be displayed, and display html file.\n",
        "    mainImagePath='images/default.png'\n",
        "    subjectImagePath=\"images/defaultSideImg.png\"\n",
        "    eventImagePath=\"images/defaultSideImg.png\"\n",
        "    author = {'authorName': 'Suhana Nadeem'}\n",
        "    return render_template('index.html', title='AI Generated Google Doodle', author=author, mainImage=mainImagePath, subjectImage=subjectImagePath, eventImage=eventImagePath)\n",
        "\n",
        "\"\"\"\n",
        "This function is called when the \"Generate Doodle\" button is pressed. It passes the \n",
        "subject and event entered by the user to instantiate the main class, and call the getDoodle() \n",
        "method. It also ensures the created doodle and chosen subject and event images are shown once\n",
        "the doodle is generated.\n",
        "\"\"\"\n",
        "@app.route('/handle', methods = ['POST'])\n",
        "def handle():\n",
        "    # Create main object by passing the chosen subject and event.\n",
        "    subjectName=request.form['subject']\n",
        "    eventName=request.form['event']\n",
        "    main=Main(subjectName=subjectName,eventName=eventName)\n",
        "    main.getDoodle() # generate the doodle.\n",
        "\n",
        "    # Define final image paths to be displayed, and display html file.\n",
        "    mainImagePath='images/'+subjectName+eventName+'doodle.png'\n",
        "    subjectImagePath=\"images/\"+subjectName+eventName+\"subjectBackground.png\"\n",
        "    eventImagePath=\"images/\"+subjectName+eventName+\"eventBackground.png\"\n",
        "    author = {'authorName': 'Suhana Nadeem'}\n",
        "    return render_template('index.html', title='AI Generated Google Doodle', author=author, mainImage=mainImagePath, subjectImage=subjectImagePath, eventImage=eventImagePath)\n",
        "\n",
        "# Run the web app.\n",
        "if __name__ == '__main__':\n",
        "    app.run()"
      ],
      "execution_count": 0,
      "outputs": []
    }
  ]
}